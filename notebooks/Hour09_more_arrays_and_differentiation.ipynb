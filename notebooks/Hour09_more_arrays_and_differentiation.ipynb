{
 "cells": [
  {
   "cell_type": "markdown",
   "metadata": {
    "slideshow": {
     "slide_type": "slide"
    }
   },
   "source": [
    "# Rolling, and more about differentiation"
   ]
  },
  {
   "cell_type": "markdown",
   "metadata": {
    "slideshow": {
     "slide_type": "slide"
    }
   },
   "source": [
    "## Central difference preview\n",
    "\n",
    "Take difference of these:\n",
    "\n",
    "$$\n",
    "f(x+h) \\approx f(x) + \\frac{f'(x)}{1!}(+h) + \\frac{f''(x)}{2!}(+h)^2 + \\frac{f'''(x)}{3!}(+h)^3 + \\cdots\n",
    "$$\n",
    "\n",
    "and\n",
    "\n",
    "$$\n",
    "f(x-h) \\approx f(x) + \\frac{f'(x)}{1!}(-h) + \\frac{f''(x)}{2!} (-h)^2 + \\frac{f'''(x)}{3!}(-h)^3 + \\cdots\n",
    "$$\n",
    "\n",
    "to get more accurate estimate of $f'(x)$."
   ]
  },
  {
   "cell_type": "markdown",
   "metadata": {
    "slideshow": {
     "slide_type": "slide"
    }
   },
   "source": [
    "## Central difference\n",
    "\n",
    "\n",
    "Rearrange to solve for $f'(x)$ and obtain\n",
    "\n",
    "$$\n",
    "f'(x) \\approx \\frac{f(x+h) - f(x-h)}{2h} - \\frac{f'''(x)}{12}h^3.\n",
    "$$"
   ]
  },
  {
   "cell_type": "code",
   "execution_count": null,
   "metadata": {
    "slideshow": {
     "slide_type": "slide"
    }
   },
   "outputs": [],
   "source": [
    "import numpy as np\n",
    "\n",
    "n_intervals = 5\n",
    "x, h = np.linspace(1, 6, num=n_intervals + 1, retstep=True)\n",
    "f = x**2 "
   ]
  },
  {
   "cell_type": "code",
   "execution_count": null,
   "metadata": {
    "slideshow": {
     "slide_type": "fragment"
    }
   },
   "outputs": [],
   "source": [
    "print(f'Step size is {h}, x is {x} and f is {f}')"
   ]
  },
  {
   "cell_type": "markdown",
   "metadata": {
    "slideshow": {
     "slide_type": "slide"
    }
   },
   "source": [
    "## First approach: difference of slices\n",
    "\n",
    "Central difference formula is: \n",
    "\n",
    "$$\n",
    "f'(x) \\approx \\frac{f(x+h) - f(x-h)}{2h}\n",
    "$$\n",
    "\n",
    "Use slices to calculate the numerator:\n",
    "\n",
    "```python\n",
    "df_dx = (f[2:] - f[:-2]) / (2 * h)\n",
    "```"
   ]
  },
  {
   "cell_type": "code",
   "execution_count": null,
   "metadata": {
    "slideshow": {
     "slide_type": "fragment"
    }
   },
   "outputs": [],
   "source": [
    "df_dx = (f[2:] - f[:-2]) / (2 * h)\n",
    "df_dx"
   ]
  },
  {
   "cell_type": "markdown",
   "metadata": {
    "slideshow": {
     "slide_type": "subslide"
    }
   },
   "source": [
    "## Self-checks\n",
    "\n",
    "+ At how many points *should* wwe be able to calculate the derivative this way?\n",
    "+ At what position is `df_dx[0]`?\n",
    "+ What value of the derivative do you get calculating by hand (i.e. use calculus) at that position?\n",
    "+ Do those values match?"
   ]
  },
  {
   "cell_type": "markdown",
   "metadata": {
    "slideshow": {
     "slide_type": "slide"
    }
   },
   "source": [
    "## Second approach: `np.roll`\n",
    "\n",
    "+ `np.roll` rolls (or shifts) elements of array\n",
    "+ Look at documentation (google `np.roll`)\n",
    "+ Try \"rolling\" the array `f` from above\n",
    "+ Try these and write down in your own words what `roll` does\n",
    "    + `np.roll(f, 3)`\n",
    "    + `np.roll(f, 1)`\n",
    "    + `np.roll(f, -1)`"
   ]
  },
  {
   "cell_type": "code",
   "execution_count": null,
   "metadata": {
    "slideshow": {
     "slide_type": "subslide"
    }
   },
   "outputs": [],
   "source": [
    "print(f)\n",
    "print(np.roll(f, 3))"
   ]
  },
  {
   "cell_type": "code",
   "execution_count": null,
   "metadata": {
    "slideshow": {
     "slide_type": "subslide"
    }
   },
   "outputs": [],
   "source": [
    "print(f)\n",
    "print(np.roll(f, 1))"
   ]
  },
  {
   "cell_type": "code",
   "execution_count": null,
   "metadata": {
    "slideshow": {
     "slide_type": "subslide"
    }
   },
   "outputs": [],
   "source": [
    "print(f)\n",
    "print(np.roll(f, -1))"
   ]
  },
  {
   "cell_type": "markdown",
   "metadata": {
    "slideshow": {
     "slide_type": "slide"
    }
   },
   "source": [
    "## Forward difference using `np.roll`\n",
    "\n",
    "+ $f(x+h)$ → \n",
    "+ $f(x)$ → \n",
    "+ $f'(x)$ → "
   ]
  },
  {
   "cell_type": "code",
   "execution_count": null,
   "metadata": {
    "slideshow": {
     "slide_type": "fragment"
    }
   },
   "outputs": [],
   "source": []
  }
 ],
 "metadata": {
  "celltoolbar": "Slideshow",
  "kernelspec": {
   "display_name": "Python 3",
   "language": "python",
   "name": "python3"
  },
  "language_info": {
   "codemirror_mode": {
    "name": "ipython",
    "version": 3
   },
   "file_extension": ".py",
   "mimetype": "text/x-python",
   "name": "python",
   "nbconvert_exporter": "python",
   "pygments_lexer": "ipython3",
   "version": "3.7.6"
  }
 },
 "nbformat": 4,
 "nbformat_minor": 4
}
