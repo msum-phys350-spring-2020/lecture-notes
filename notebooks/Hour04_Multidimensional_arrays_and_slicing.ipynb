{
 "cells": [
  {
   "cell_type": "markdown",
   "metadata": {
    "slideshow": {
     "slide_type": "slide"
    }
   },
   "source": [
    "# Lecture 4: Slicing, multi-dimensional arrays, and negative index"
   ]
  },
  {
   "cell_type": "markdown",
   "metadata": {
    "slideshow": {
     "slide_type": "slide"
    }
   },
   "source": [
    "## Reminder: access a range of elements of an array\n",
    "\n",
    "### Range of element access: put multiple numbers, separated by colons, between square brackets\n",
    "\n",
    "`my_array[start:stop:step]`\n",
    "\n",
    "where \n",
    "\n",
    "+ `start` is integer or variable, used as start of selection\n",
    "+ `stop` is integer or variable, selection is up to but not including this\n",
    "+ `step` is integer or variable, the step size used to get from `start` to `stop`\n",
    "\n",
    "All are optional, so `[::]` is valid, as is `[:]`! The last two return all elements in the array."
   ]
  },
  {
   "cell_type": "markdown",
   "metadata": {
    "slideshow": {
     "slide_type": "slide"
    }
   },
   "source": [
    "## Multi-dimensional arrays \n",
    "\n",
    "The array package `numpy` supports multidimensional arrays. The limit on the size of the array you can work with is essentially the amount of memory your computer has (though there are ways of working with larger objects).\n",
    "\n",
    "All of the arithmetic (raising to a power, etc.) that we have done on one dimensional arrays can also be done on multidimensional arrays in exactly the same way."
   ]
  },
  {
   "attachments": {
    "image.png": {
     "image/png": "[encoded data removed]"
    }
   },
   "cell_type": "markdown",
   "metadata": {
    "slideshow": {
     "slide_type": "slide"
    }
   },
   "source": [
    "## Declaring arrays\n",
    "\n",
    "Declare an array with 4 rows and 2 columns with \n",
    "\n",
    "```python\n",
    "z = np.zeros([4, 2], dtype=float)\n",
    "```\n",
    "\n",
    "+ Alternatives to `np.zero`: `np.empty`, `np.ones`, `np.array`, ...\n",
    "+ `dtype` is optional. \n",
    "\n",
    "![image.png](attachment:image.png)"
   ]
  },
  {
   "cell_type": "markdown",
   "metadata": {
    "slideshow": {
     "slide_type": "subslide"
    }
   },
   "source": [
    "Run this code to create an array of zeros."
   ]
  },
  {
   "cell_type": "code",
   "execution_count": null,
   "metadata": {
    "slideshow": {
     "slide_type": "fragment"
    }
   },
   "outputs": [],
   "source": [
    "import numpy as np\n",
    "nada = np.zeros([4, 2], dtype=float)\n",
    "nada"
   ]
  },
  {
   "attachments": {
    "image.png": {
     "image/png": "[encoded data removed]"
    }
   },
   "cell_type": "markdown",
   "metadata": {
    "slideshow": {
     "slide_type": "slide"
    }
   },
   "source": [
    "## Making a more interesting array\n",
    "\n",
    "Suppose the array `z` is shown below. \n",
    "\n",
    "![image.png](attachment:image.png)\n",
    "\n",
    "You can create an array like this in two steps (there are likely other ways too):\n",
    "\n",
    "```python\n",
    "# Make 1 dimensional array of numbers from 1 to 8\n",
    "z = np.arange(1, 9)\n",
    "\n",
    "# Rearrange the numbers to make an array that has 4 rows and 2 columns\n",
    "z = z.reshape([4, 2])\n",
    "```"
   ]
  },
  {
   "attachments": {
    "image.png": {
     "image/png": "[encoded data removed]"
    }
   },
   "cell_type": "markdown",
   "metadata": {
    "slideshow": {
     "slide_type": "slide"
    }
   },
   "source": [
    "### Accessing single element of array\n",
    "\n",
    "Suppose the array `z` is shown below. \n",
    "\n",
    "![image.png](attachment:image.png)\n",
    "\n",
    "Rows and columns are separately numbered starting at `0`. In this example the rows go from 0 to 3 and the columns from 0 to 1.\n",
    "\n",
    "What is `z[0, 2]`?"
   ]
  },
  {
   "cell_type": "markdown",
   "metadata": {
    "slideshow": {
     "slide_type": "subslide"
    }
   },
   "source": [
    "#### Try it!\n",
    "\n",
    "If you want to try it, use this command to create the array (it combines the two steps from above into one):"
   ]
  },
  {
   "cell_type": "code",
   "execution_count": null,
   "metadata": {},
   "outputs": [],
   "source": [
    "z = np.arange(1, 9).reshape([4, 2])\n",
    "z"
   ]
  },
  {
   "cell_type": "markdown",
   "metadata": {
    "slideshow": {
     "slide_type": "slide"
    }
   },
   "source": [
    "## Slicing an multidimensional array\n",
    "\n",
    "### Slicing reminder:\n",
    "\n",
    "`[start:stop:step]`\n",
    "\n",
    "where \n",
    "\n",
    "+ `start` is integer or variable, used as start of selection (default: start of list)\n",
    "+ `stop` is integer or variable, selection is up to but not including this (default: end of list)\n",
    "+ `step` is integer or variable, the step size used to get from `start` to `stop` (default: 1)\n"
   ]
  },
  {
   "cell_type": "markdown",
   "metadata": {
    "slideshow": {
     "slide_type": "subslide"
    }
   },
   "source": [
    "##### Make a prediction:\n",
    "\n",
    "What is `z[:, 0]`? Is it first row? First column? Another row or column?\n",
    "\n",
    "Try it below and find out."
   ]
  },
  {
   "cell_type": "code",
   "execution_count": null,
   "metadata": {
    "slideshow": {
     "slide_type": "subslide"
    }
   },
   "outputs": [],
   "source": []
  },
  {
   "cell_type": "markdown",
   "metadata": {
    "slideshow": {
     "slide_type": "slide"
    }
   },
   "source": [
    "##### Make a prediction\n",
    "\n",
    "How would you select third row?\n",
    "\n",
    "Try it below"
   ]
  },
  {
   "cell_type": "code",
   "execution_count": null,
   "metadata": {
    "slideshow": {
     "slide_type": "subslide"
    }
   },
   "outputs": [],
   "source": []
  },
  {
   "cell_type": "markdown",
   "metadata": {
    "slideshow": {
     "slide_type": "slide"
    }
   },
   "source": [
    "### Slicing specific range of rows and columns\n",
    "\n",
    "The row and column slices are independent. To get the 2nd and 3rd rows, first column only, you would do `z[1:3, 0]`. \n",
    "\n",
    "Row index `1` is the second row and index `3` is the fourth row, so `1:3` starts at the  second row and goes up to, but not including, the fourth row. \n",
    "\n",
    "The column index, `0`, selects the first column."
   ]
  },
  {
   "cell_type": "markdown",
   "metadata": {
    "slideshow": {
     "slide_type": "slide"
    }
   },
   "source": [
    "## Negative index\n",
    "\n",
    "It turns out a slice index can be *negative*. A negative index means the counting is done from the end.\n",
    "\n",
    "To see how this works, make an array with the number 0 to 6 in it using `np.arange`:"
   ]
  },
  {
   "cell_type": "code",
   "execution_count": null,
   "metadata": {
    "slideshow": {
     "slide_type": "subslide"
    }
   },
   "outputs": [],
   "source": [
    "a = np.arange(7)\n",
    "a"
   ]
  },
  {
   "cell_type": "markdown",
   "metadata": {
    "slideshow": {
     "slide_type": "fragment"
    }
   },
   "source": [
    "Now try slicing it with `a[-1]`:"
   ]
  },
  {
   "cell_type": "code",
   "execution_count": null,
   "metadata": {
    "slideshow": {
     "slide_type": "fragment"
    }
   },
   "outputs": [],
   "source": [
    "a[-1]"
   ]
  },
  {
   "cell_type": "markdown",
   "metadata": {
    "slideshow": {
     "slide_type": "slide"
    }
   },
   "source": [
    "## negative index with an array\n",
    "\n",
    "A negative index can be used with a multidimensional array too.\n",
    "\n",
    "Recall that the array `z` has the numbers from 1 to 8 in a 4 × 2 array:"
   ]
  },
  {
   "cell_type": "code",
   "execution_count": null,
   "metadata": {
    "slideshow": {
     "slide_type": "fragment"
    }
   },
   "outputs": [],
   "source": [
    "z"
   ]
  },
  {
   "cell_type": "markdown",
   "metadata": {
    "slideshow": {
     "slide_type": "subslide"
    }
   },
   "source": [
    "Given that, what number will `z[-1, -1]` produce? Try it below."
   ]
  },
  {
   "cell_type": "code",
   "execution_count": null,
   "metadata": {
    "slideshow": {
     "slide_type": "fragment"
    }
   },
   "outputs": [],
   "source": []
  },
  {
   "cell_type": "markdown",
   "metadata": {
    "slideshow": {
     "slide_type": "slide"
    }
   },
   "source": [
    "## negative *step*\n",
    "\n",
    "Recall that slices can have three parts: `start:stop:step`\n",
    "\n",
    "If the step is negative then the index counts down from large to small. \n",
    "\n",
    "For example, with our array `a` of the numbers from 0 through 6, `a[5:1:-1]` produces `[5, 4, 3, 2]`. That is index 5, then 4, then 3, and so on. \n",
    "\n",
    "One common use of a negative step is to reverse all rows or columns of an array. Try `z[::-1, :]`, see what it does, and explain why it does that."
   ]
  }
 ],
 "metadata": {
  "celltoolbar": "Slideshow",
  "kernelspec": {
   "display_name": "Python 3",
   "language": "python",
   "name": "python3"
  },
  "language_info": {
   "codemirror_mode": {
    "name": "ipython",
    "version": 3
   },
   "file_extension": ".py",
   "mimetype": "text/x-python",
   "name": "python",
   "nbconvert_exporter": "python",
   "pygments_lexer": "ipython3",
   "version": "3.7.6"
  }
 },
 "nbformat": 4,
 "nbformat_minor": 2
}
