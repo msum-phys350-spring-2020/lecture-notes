{
 "cells": [
  {
   "cell_type": "markdown",
   "metadata": {
    "slideshow": {
     "slide_type": "slide"
    }
   },
   "source": [
    "# Lecture 9: Numerical differentiation"
   ]
  },
  {
   "cell_type": "markdown",
   "metadata": {
    "slideshow": {
     "slide_type": "slide"
    }
   },
   "source": [
    "## Goals\n",
    "\n",
    "+ Understand errors in numerical differentiation\n",
    "+ Introduction to [`np.roll`](https://docs.scipy.org/doc/numpy/reference/generated/numpy.roll.html?highlight=roll#numpy.roll)\n",
    "+ Efficient way to calculate numerical derivatives"
   ]
  },
  {
   "cell_type": "markdown",
   "metadata": {
    "slideshow": {
     "slide_type": "slide"
    }
   },
   "source": [
    "## Definition of derivative \n",
    "\n",
    "![Image of graph of f(x)](media/09-num-diff.png)\n",
    "\n",
    "$$\n",
    "\\frac{df}{dx}(x) = \\lim_{h\\rightarrow 0}{\\frac{f(x+h) - f(x)}{h}}\n",
    "$$"
   ]
  },
  {
   "cell_type": "markdown",
   "metadata": {},
   "source": [
    "## Alternative expressions\n",
    "\n",
    "![Image of graph of f(x)](media/09-num-diff.png)\n",
    "\n"
   ]
  },
  {
   "cell_type": "markdown",
   "metadata": {
    "slideshow": {
     "slide_type": "slide"
    }
   },
   "source": [
    "## Computers cannot take limits so estimate error\n",
    "\n",
    "Use Taylor series expansion of $f(x + h)$ about the point $x$ to estimate error:\n",
    "\n",
    "$$\n",
    "f(x+h) \\approx f(x) + \\frac{f'(x)}{1!}h + \\frac{f''(x)}{2!} h^2 + \\frac{f'''(x)}{3!}h^3 + \\cdots\n",
    "$$"
   ]
  },
  {
   "cell_type": "markdown",
   "metadata": {
    "slideshow": {
     "slide_type": "subslide"
    }
   },
   "source": [
    "### Rearrange:\n",
    "\n",
    "$$\n",
    "h f'(x) \\approx f(x+h) - f(x) - \\frac{f''(x)}{2!} h^2 + \\cdots\n",
    "$$\n",
    "\n"
   ]
  },
  {
   "cell_type": "markdown",
   "metadata": {
    "slideshow": {
     "slide_type": "subslide"
    }
   },
   "source": [
    "### Solve for derivative:\n",
    "\n",
    "$$\n",
    "f'(x) \\approx \\frac{f(x+h) - f(x)}{h} - \\frac{f''(x)}{2!} h + \\cdots\n",
    "$$"
   ]
  },
  {
   "cell_type": "markdown",
   "metadata": {
    "slideshow": {
     "slide_type": "slide"
    }
   },
   "source": [
    "## Error in derivative \n",
    " \n",
    "The magnitude of the error, $\\varepsilon$, is\n",
    "\n",
    "$$\n",
    "\\varepsilon \\approx \\left|f''(x)\\right|h/2\n",
    "$$"
   ]
  },
  {
   "cell_type": "markdown",
   "metadata": {
    "slideshow": {
     "slide_type": "subslide"
    }
   },
   "source": [
    "### Additional error from rounding\n",
    "\n",
    "See textbook for details, roundoff error in $f(x)$ is\n",
    "\n",
    "$$\n",
    "\\pm C f(x)\n",
    "$$\n",
    "\n",
    "where $C \\sim 10^{-16}$ so error in derivative is\n",
    "\n",
    "$$\n",
    "\\sim 2C|f(x)|/h\n",
    "$$"
   ]
  },
  {
   "cell_type": "markdown",
   "metadata": {
    "slideshow": {
     "slide_type": "subslide"
    }
   },
   "source": [
    "### Total error (forward difference)\n",
    "\n",
    "$$\n",
    "\\varepsilon \\approx \\frac{h}{2} \\left|f''(x)\\right| + \\frac{2C|f(x)|}{h}\n",
    "$$\n",
    "\n",
    "One can (and the book does) find the step size $h$ that minimizes $\\varepsilon$ by taking $d\\varepsilon/dh$ and setting it to zero."
   ]
  },
  {
   "cell_type": "markdown",
   "metadata": {
    "slideshow": {
     "slide_type": "subslide"
    }
   },
   "source": [
    "## Central difference preview\n",
    "\n",
    "Take difference of these:\n",
    "\n",
    "$$\n",
    "f(x+h) \\approx f(x) + \\frac{f'(x)}{1!}(+h) + \\frac{f''(x)}{2!}(+h)^2 + \\frac{f'''(x)}{3!}(+h)^3 + \\cdots\n",
    "$$\n",
    "\n",
    "and\n",
    "\n",
    "$$\n",
    "f(x-h) \\approx f(x) + \\frac{f'(x)}{1!}(-h) + \\frac{f''(x)}{2!} (-h)^2 + \\frac{f'''(x)}{3!}(-h)^3 + \\cdots\n",
    "$$\n",
    "\n",
    "to get more accurate estimate of $f'(x)$."
   ]
  },
  {
   "cell_type": "code",
   "execution_count": null,
   "metadata": {
    "slideshow": {
     "slide_type": "slide"
    }
   },
   "outputs": [],
   "source": [
    "import numpy as np\n",
    "x, h = np.linspace(1, 5, num=5, retstep=True)\n",
    "f = x**2 + 2\n",
    "print(x)\n",
    "print(f)\n",
    "print(h)"
   ]
  },
  {
   "cell_type": "markdown",
   "metadata": {
    "slideshow": {
     "slide_type": "slide"
    }
   },
   "source": [
    "## Intro to `np.roll`\n",
    "\n",
    "+ Rolls (or shifts) elements of array\n",
    "+ Look at documentation (google `np.roll`)\n",
    "+ In spyder, create array: `a = np.arange(5)`\n",
    "+ Try these and write down in your own words what `roll` does\n",
    "    + `np.roll(a, 1)`\n",
    "    + `np.roll(a, -1)`\n",
    "    + `np.roll(a, 3)`\n"
   ]
  },
  {
   "cell_type": "code",
   "execution_count": null,
   "metadata": {
    "slideshow": {
     "slide_type": "subslide"
    }
   },
   "outputs": [],
   "source": []
  },
  {
   "cell_type": "code",
   "execution_count": null,
   "metadata": {},
   "outputs": [],
   "source": []
  },
  {
   "cell_type": "markdown",
   "metadata": {
    "slideshow": {
     "slide_type": "slide"
    }
   },
   "source": [
    "## Forward difference using `np.roll`\n",
    "\n",
    "+ $f(x+h)$ → \n",
    "+ $f(x)$ → \n",
    "+ $f'(x)$ → "
   ]
  }
 ],
 "metadata": {
  "celltoolbar": "Slideshow",
  "kernelspec": {
   "display_name": "Python 3",
   "language": "python",
   "name": "python3"
  },
  "language_info": {
   "codemirror_mode": {
    "name": "ipython",
    "version": 3
   },
   "file_extension": ".py",
   "mimetype": "text/x-python",
   "name": "python",
   "nbconvert_exporter": "python",
   "pygments_lexer": "ipython3",
   "version": "3.7.6"
  }
 },
 "nbformat": 4,
 "nbformat_minor": 2
}
