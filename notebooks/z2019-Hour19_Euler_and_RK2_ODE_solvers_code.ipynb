{
 "cells": [
  {
   "cell_type": "markdown",
   "metadata": {
    "slideshow": {
     "slide_type": "slide"
    }
   },
   "source": [
    "# Lecture 19: Solving (coupled) ordinary differential equations"
   ]
  },
  {
   "cell_type": "markdown",
   "metadata": {
    "slideshow": {
     "slide_type": "slide"
    }
   },
   "source": [
    "## Objectives\n",
    "\n",
    "+ Implement Euler and RK2"
   ]
  },
  {
   "cell_type": "markdown",
   "metadata": {
    "slideshow": {
     "slide_type": "slide"
    }
   },
   "source": [
    "## Recap: Euler method\n",
    "\n",
    "Given $dx/dt = f(x, t)$ (where $x$ can be single variable or vector), initial conditions $x_0$, and time step $h$,\n",
    "\n",
    "$$\n",
    "x_{new} = x_{old} + h f(x(t_{old}), t_{old}).\n",
    "$$\n",
    "\n",
    "Code implementation might look like\n",
    "\n",
    "```python\n",
    "x += h * f(x, lasttime)\n",
    "```"
   ]
  },
  {
   "cell_type": "markdown",
   "metadata": {
    "slideshow": {
     "slide_type": "slide"
    }
   },
   "source": [
    "## Recap: RK2\n",
    "\n",
    "+ Make multiple estimates of new position\n",
    "+ weight estimates to give result with smaller error"
   ]
  },
  {
   "cell_type": "markdown",
   "metadata": {
    "slideshow": {
     "slide_type": "slide"
    }
   },
   "source": [
    "## RK2, graphically\n",
    "\n",
    "![Graph com-paringing Euler and RK2 methods](media/17-rk2-graphic.png)"
   ]
  },
  {
   "cell_type": "markdown",
   "metadata": {
    "slideshow": {
     "slide_type": "slide"
    }
   },
   "source": [
    "## RK2, equations\n",
    "\n",
    "Expand $x(t)$ and $x(t+h)$ about the point $t + h/2$:\n",
    "\n",
    "$$\n",
    "x(t + h) \n",
    "    = x(t + h/2) + \\left.\\frac{dx}{dt}\\right|_{t+h/2} \\left(\\frac{h}{2} \\right)\n",
    "        + \\frac{1}{2} \\left.\\frac{d^2x}{dt^2}\\right|_{t+h/2} \\left(\\frac{h}{2}\\right)^2 + \\mathcal{O}{(h^3)}\n",
    "$$\n"
   ]
  },
  {
   "cell_type": "markdown",
   "metadata": {
    "slideshow": {
     "slide_type": "fragment"
    }
   },
   "source": [
    "\n",
    "$$\n",
    "x(t) \n",
    "    = x(t + h/2) + \\left.\\frac{dx}{dt}\\right|_{t+h/2} \\left(-\\frac{h}{2} \\right)\n",
    "        + \\frac{1}{2} \\left.\\frac{d^2x}{dt^2}\\right|_{t+h/2} \\left(\\frac{h}{2}\\right)^2 + \\mathcal{O}{(h^3)}\n",
    "$$"
   ]
  },
  {
   "cell_type": "markdown",
   "metadata": {
    "slideshow": {
     "slide_type": "slide"
    }
   },
   "source": [
    "## RK2\n",
    "\n",
    "$$\n",
    "x(t + h) = x(t) + h * \\left. \\frac{dx}{dt}\\right|_{t+h/2} = x(t) + h f(x(t + h/2), t + h/2)\n",
    "$$"
   ]
  },
  {
   "cell_type": "markdown",
   "metadata": {
    "slideshow": {
     "slide_type": "slide"
    }
   },
   "source": [
    "## Rewrite\n",
    "\n",
    "Define \n",
    "\n",
    "$$\n",
    "k_1 = h f(x(t), t)\n",
    "$$\n",
    "\n",
    "and\n",
    "\n",
    "$$\n",
    "k_2 = h f(x + k_1 / 2, t + h/2)\n",
    "$$\n",
    "\n",
    "so that\n",
    "\n",
    "$$\n",
    "x(t+h) = x(t) + k_2\n",
    "$$\n",
    "\n",
    "### Error is proportional to $h^3$: *first order accurate*"
   ]
  },
  {
   "cell_type": "code",
   "execution_count": null,
   "metadata": {},
   "outputs": [],
   "source": []
  }
 ],
 "metadata": {
  "celltoolbar": "Slideshow",
  "kernelspec": {
   "display_name": "Python 3",
   "language": "python",
   "name": "python3"
  },
  "language_info": {
   "codemirror_mode": {
    "name": "ipython",
    "version": 3
   },
   "file_extension": ".py",
   "mimetype": "text/x-python",
   "name": "python",
   "nbconvert_exporter": "python",
   "pygments_lexer": "ipython3",
   "version": "3.6.7"
  }
 },
 "nbformat": 4,
 "nbformat_minor": 2
}
