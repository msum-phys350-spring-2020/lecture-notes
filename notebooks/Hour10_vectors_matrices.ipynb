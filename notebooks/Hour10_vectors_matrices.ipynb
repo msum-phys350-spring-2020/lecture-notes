{
 "cells": [
  {
   "cell_type": "markdown",
   "metadata": {
    "slideshow": {
     "slide_type": "slide"
    }
   },
   "source": [
    "# Lecture 10: Vector and Matrix Math"
   ]
  },
  {
   "cell_type": "markdown",
   "metadata": {
    "slideshow": {
     "slide_type": "slide"
    }
   },
   "source": [
    "## Goals\n",
    "\n",
    "+ Review dot product (also called inner product)\n",
    "+ Doing dot products in python\n",
    "+ Review matrix multiplication\n",
    "+ Doing matrix multiplication in python\n",
    "+ Intro to eignve'tors/eigenvalues\n"
   ]
  },
  {
   "cell_type": "markdown",
   "metadata": {
    "slideshow": {
     "slide_type": "slide"
    }
   },
   "source": [
    "## dot product of vectors \n",
    "\n",
    "The dot (or inner) product of $\\vec{a}$ and $\\vec{b}$ is\n",
    "\n",
    "$$\n",
    "\\vec{a} \\cdot \\vec{b} = a_x b_x + a_y b_y + a_z b_z\n",
    "$$\n"
   ]
  },
  {
   "cell_type": "markdown",
   "metadata": {
    "slideshow": {
     "slide_type": "fragment"
    }
   },
   "source": [
    "\n",
    "If $\\vec{a} = \\langle 1, 2, 3 \\rangle $ and $\\vec{b} = \\langle 4, 5, 6 \\rangle$, what is $\\vec{a}\\cdot\\vec{b}$?"
   ]
  },
  {
   "cell_type": "markdown",
   "metadata": {
    "slideshow": {
     "slide_type": "slide"
    }
   },
   "source": [
    "## Inner products in python\n",
    "\n",
    "```python\n",
    "a @ b\n",
    "```\n",
    "\n",
    "### or\n",
    "\n",
    "```python\n",
    "np.dot(a, b)\n",
    "```"
   ]
  },
  {
   "cell_type": "code",
   "execution_count": null,
   "metadata": {
    "slideshow": {
     "slide_type": "slide"
    }
   },
   "outputs": [],
   "source": [
    "import numpy as np\n",
    "\n",
    "# fill this in!\n",
    "a = np.array([1, 2, 3])\n",
    "b = np.array([4, 5, 6])\n",
    "\n",
    "print(a @ b, np.dot(a, b))"
   ]
  },
  {
   "cell_type": "markdown",
   "metadata": {
    "slideshow": {
     "slide_type": "slide"
    }
   },
   "source": [
    "## Matrix multiplication\n",
    "\n",
    "### also known as repeated dot products\n",
    "\n",
    "Matrix times vector:\n"
   ]
  },
  {
   "cell_type": "markdown",
   "metadata": {
    "slideshow": {
     "slide_type": "slide"
    }
   },
   "source": [
    "### product of two matrices"
   ]
  },
  {
   "cell_type": "markdown",
   "metadata": {
    "slideshow": {
     "slide_type": "subslide"
    }
   },
   "source": [
    "## Summary\n",
    "\n",
    "+ Figure out size of result \n",
    "+ Do that many inner products"
   ]
  },
  {
   "cell_type": "markdown",
   "metadata": {
    "slideshow": {
     "slide_type": "slide"
    }
   },
   "source": [
    "## Matrix multiplication in python\n",
    " \n",
    "```python\n",
    "m @ b\n",
    "```\n",
    "\n",
    "or\n",
    "\n",
    "```python\n",
    "np.dot(m, b)\n",
    "```"
   ]
  },
  {
   "cell_type": "code",
   "execution_count": null,
   "metadata": {
    "slideshow": {
     "slide_type": "slide"
    }
   },
   "outputs": [],
   "source": [
    "m = np.array([\n",
    "    [1, -1],\n",
    "    [0, 2]\n",
    "])"
   ]
  },
  {
   "cell_type": "code",
   "execution_count": null,
   "metadata": {
    "slideshow": {
     "slide_type": "fragment"
    }
   },
   "outputs": [],
   "source": [
    "b = np.array([4, 5])\n",
    "b1 = np.array([[4], [5]])\n",
    "print(b1.shape)\n",
    "print((m @ b).T)"
   ]
  },
  {
   "cell_type": "code",
   "execution_count": null,
   "metadata": {
    "slideshow": {
     "slide_type": "slide"
    }
   },
   "outputs": [],
   "source": [
    "m1 = m\n",
    "m2 = np.array([\n",
    "    [-1, 0],\n",
    "    [3, 1]\n",
    "])\n",
    "print(m1)\n",
    "print(m2)"
   ]
  },
  {
   "cell_type": "code",
   "execution_count": null,
   "metadata": {
    "slideshow": {
     "slide_type": "subslide"
    }
   },
   "outputs": [],
   "source": [
    "print(m1 @ m2)\n",
    "print(m1 * m2)"
   ]
  },
  {
   "cell_type": "markdown",
   "metadata": {
    "slideshow": {
     "slide_type": "slide"
    }
   },
   "source": [
    "## Rotation matrix \n",
    "\n",
    "### Rotate by angle $\\theta$ about $z$-axis\n",
    "\n",
    "$$\n",
    "R = \\left(\\begin{matrix}\n",
    "\\cos\\theta & -\\sin\\theta & 0 \\\\\n",
    "\\sin\\theta & \\cos\\theta & 0 \\\\\n",
    "0 & 0 & 1\n",
    "\\end{matrix}\n",
    "\\right)\n",
    "$$"
   ]
  }
 ],
 "metadata": {
  "celltoolbar": "Slideshow",
  "kernelspec": {
   "display_name": "Python 3",
   "language": "python",
   "name": "python3"
  },
  "language_info": {
   "codemirror_mode": {
    "name": "ipython",
    "version": 3
   },
   "file_extension": ".py",
   "mimetype": "text/x-python",
   "name": "python",
   "nbconvert_exporter": "python",
   "pygments_lexer": "ipython3",
   "version": "3.6.7"
  }
 },
 "nbformat": 4,
 "nbformat_minor": 2
}
