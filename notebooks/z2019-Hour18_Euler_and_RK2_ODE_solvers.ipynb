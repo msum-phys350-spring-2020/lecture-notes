{
 "cells": [
  {
   "cell_type": "markdown",
   "metadata": {
    "slideshow": {
     "slide_type": "slide"
    }
   },
   "source": [
    "# Lecture 18: Solving (coupled) ordinary differential equations"
   ]
  },
  {
   "cell_type": "markdown",
   "metadata": {
    "slideshow": {
     "slide_type": "slide"
    }
   },
   "source": [
    "## Objectives\n",
    "\n",
    "+ Define ODE\n",
    "+ Describe mathematical basis for integration used in P200/201 (Euler method) (forward difference derivative)\n",
    "+ Estimate error in Euler method\n",
    "+ Explain Runge-Kutte second order method (central difference derivative)\n",
    "+ Implement RK2"
   ]
  },
  {
   "cell_type": "markdown",
   "metadata": {
    "slideshow": {
     "slide_type": "slide"
    }
   },
   "source": [
    "## Recap: first year physics\n",
    "\n",
    "Predict future motion based on past motion:\n",
    "\n",
    "+ *velocity update*: ${\\Delta\\vec{v}} = \\frac{F(\\vec{x})}{m}{\\Delta t}~~~\\Rightarrow~~~ \\vec{v}_{new} = \\vec{v}_{old} + ({F(\\vec{x}_{old})}/{m}){\\Delta t}$\n",
    "\n",
    "\n",
    "+ *position update*: $\\Delta\\vec{x} = \\vec{v} \\Delta t~~~\\Rightarrow~~~ \\vec{x}_{new} = \\vec{x}_{old} + \\vec{v}_{new} \\Delta t$"
   ]
  },
  {
   "cell_type": "markdown",
   "metadata": {
    "slideshow": {
     "slide_type": "slide"
    }
   },
   "source": [
    "## These are coupled 1st order ODEs\n",
    "\n",
    "+ Coupled: more than one equation, variable in one equation appear in another equation   \n",
    "+ 1st order: first derivative only on left hand side \n",
    "+ Oridinary Differential Equation (ODE): No partial derivatives"
   ]
  },
  {
   "cell_type": "markdown",
   "metadata": {
    "slideshow": {
     "slide_type": "slide"
    }
   },
   "source": [
    "## Integration method: Euler method\n",
    "\n",
    "+ \"Integration\" → \"solve\" → \"Find $\\vec{x}$ and $\\vec{v}$\"\n",
    "+ Euler method: Rearrangment of forward first derivative\n",
    "+ Consider *single* ODE: $dx/dt = f(x, t)$\n"
   ]
  },
  {
   "cell_type": "markdown",
   "metadata": {
    "slideshow": {
     "slide_type": "slide"
    }
   },
   "source": [
    "## Forward difference \n",
    "\n",
    "Expand $x(t+h)$ about time $t$:\n",
    "\n",
    "$$\n",
    "x(t+h) \\approx x(t) + \\left.\\frac{dx}{dt}\\right|_t h + \\frac{1}{2} \\left.\\frac{d^2x}{dt^2}\\right|_t h^2 + \\cdots\n",
    "$$\n",
    "\n",
    "Do this repeatedly and the accumulated error in $x$ after integrating from $a$ to $b$ is\n",
    "\n",
    "$$\n",
    "\\sum^{N-1}_{k=0} \\frac {1}{2}h^{2}\n",
    "     \\left.\\frac {d^{2}x}{dt^{2}}\\right|_{x=x_{k}\\\\ t=t_{k}} \\approx \n",
    "     \\frac{1}{2}h \\int ^{b}_{a}\\frac {df}{dt}dt\n",
    "$$\n",
    "\n",
    "### Error is proportional to $h$: *first order accurate*"
   ]
  },
  {
   "cell_type": "markdown",
   "metadata": {
    "slideshow": {
     "slide_type": "slide"
    }
   },
   "source": [
    "## Euler's method, graphically\n",
    "\n",
    "![Graph of Euler's method](media/17-euler-graphic.png)"
   ]
  },
  {
   "cell_type": "markdown",
   "metadata": {
    "slideshow": {
     "slide_type": "slide"
    }
   },
   "source": [
    "## Integration method: Runge-Kutta 2\n",
    "\n",
    "+ Second order accurate\n",
    "+ Based on *central* difference estimate of derivative \n",
    "+ \"Center\" in this case is midpoint of time step"
   ]
  },
  {
   "cell_type": "markdown",
   "metadata": {
    "slideshow": {
     "slide_type": "slide"
    }
   },
   "source": [
    "## RK2, graphically\n",
    "\n",
    "![Graph com-paringing Euler and RK2 methods](media/17-rk2-graphic.png)"
   ]
  },
  {
   "cell_type": "markdown",
   "metadata": {
    "slideshow": {
     "slide_type": "slide"
    }
   },
   "source": [
    "## RK2, equations\n",
    "\n",
    "Expand $x(t)$ and $x(t+h)$ about the point $t + h/2$:\n",
    "\n",
    "$$\n",
    "x(t + h) \n",
    "    = x(t + h/2) + \\left.\\frac{dx}{dt}\\right|_{t+h/2} \\left(\\frac{h}{2} \\right)\n",
    "        + \\frac{1}{2} \\left.\\frac{d^2x}{dt^2}\\right|_{t+h/2} \\left(\\frac{h}{2}\\right)^2 + \\mathcal{O}{(h^3)}\n",
    "$$\n"
   ]
  },
  {
   "cell_type": "markdown",
   "metadata": {
    "slideshow": {
     "slide_type": "fragment"
    }
   },
   "source": [
    "\n",
    "$$\n",
    "x(t) \n",
    "    = x(t + h/2) + \\left.\\frac{dx}{dt}\\right|_{t+h/2} \\left(-\\frac{h}{2} \\right)\n",
    "        + \\frac{1}{2} \\left.\\frac{d^2x}{dt^2}\\right|_{t+h/2} \\left(\\frac{h}{2}\\right)^2 + \\mathcal{O}{(h^3)}\n",
    "$$"
   ]
  },
  {
   "cell_type": "markdown",
   "metadata": {
    "slideshow": {
     "slide_type": "slide"
    }
   },
   "source": [
    "## Subtract, solve for $x(t+h)$"
   ]
  },
  {
   "cell_type": "markdown",
   "metadata": {
    "slideshow": {
     "slide_type": "slide"
    }
   },
   "source": [
    "## Must estimate $f(x(t+h/2), t+h/2)$\n",
    "\n",
    "Use the Euler method..."
   ]
  },
  {
   "cell_type": "markdown",
   "metadata": {
    "slideshow": {
     "slide_type": "slide"
    }
   },
   "source": [
    "## Must estimate $f(x(t+h/2), t+h/2)$\n",
    "\n",
    "Use the Euler method..."
   ]
  },
  {
   "cell_type": "markdown",
   "metadata": {
    "slideshow": {
     "slide_type": "slide"
    }
   },
   "source": [
    "## Must estimate $f(x(t+h/2), t+h/2)$\n",
    "\n",
    "Use the Euler method..."
   ]
  },
  {
   "cell_type": "code",
   "execution_count": null,
   "metadata": {
    "slideshow": {
     "slide_type": "slide"
    }
   },
   "outputs": [],
   "source": [
    "import numpy as np\n",
    "\n",
    "a = range(10)\n",
    "np.roll(a, 3)"
   ]
  },
  {
   "cell_type": "code",
   "execution_count": null,
   "metadata": {},
   "outputs": [],
   "source": []
  }
 ],
 "metadata": {
  "celltoolbar": "Slideshow",
  "kernelspec": {
   "display_name": "Python 3",
   "language": "python",
   "name": "python3"
  },
  "language_info": {
   "codemirror_mode": {
    "name": "ipython",
    "version": 3
   },
   "file_extension": ".py",
   "mimetype": "text/x-python",
   "name": "python",
   "nbconvert_exporter": "python",
   "pygments_lexer": "ipython3",
   "version": "3.6.7"
  }
 },
 "nbformat": 4,
 "nbformat_minor": 2
}
