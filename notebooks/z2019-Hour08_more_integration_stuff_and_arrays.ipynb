{
 "cells": [
  {
   "cell_type": "markdown",
   "metadata": {
    "slideshow": {
     "slide_type": "slide"
    }
   },
   "source": [
    "# Lecture 8: Arrays, more integration, intro to differentiation"
   ]
  },
  {
   "cell_type": "markdown",
   "metadata": {
    "slideshow": {
     "slide_type": "slide"
    }
   },
   "source": [
    "## Goals\n",
    "\n",
    "+ `arange` vs `linspace`\n",
    "+ Calculating sums and differences without loops\n",
    "+ Running averages\n",
    "+ Differentiation"
   ]
  },
  {
   "cell_type": "markdown",
   "metadata": {
    "slideshow": {
     "slide_type": "slide"
    }
   },
   "source": [
    "## `arange` vs `linspace`"
   ]
  },
  {
   "cell_type": "code",
   "execution_count": null,
   "metadata": {
    "slideshow": {
     "slide_type": "subslide"
    }
   },
   "outputs": [],
   "source": [
    "import numpy as np\n",
    "\n",
    "print(np.arange(1, 3, 0.5))\n",
    "print(np.linspace(1, 3, 5,))"
   ]
  },
  {
   "cell_type": "markdown",
   "metadata": {
    "slideshow": {
     "slide_type": "slide"
    }
   },
   "source": [
    "## What is step size/spacing?\n",
    "\n",
    "Use the `retstep` argument to `np.linspace` to also return spacing."
   ]
  },
  {
   "cell_type": "code",
   "execution_count": null,
   "metadata": {
    "slideshow": {
     "slide_type": "subslide"
    }
   },
   "outputs": [],
   "source": [
    "x, h = np.linspace(1, 3, 724, retstep=True)\n",
    "print(h - 2/723)"
   ]
  },
  {
   "cell_type": "markdown",
   "metadata": {
    "slideshow": {
     "slide_type": "slide"
    }
   },
   "source": [
    "## Organizing complicated expressions\n",
    "\n",
    "Given $f(x) = \\frac{1}{3} x^3 - \\frac{11}{4} x^2 + 7x$, what is the definite integral from $a$ to $b$?\n",
    "\n",
    "Integrated from $a$ to $b$:\n",
    "\n",
    "$$\n",
    "\\frac{1}{12} b^4 - \\frac{11}{12} b^3 + \\frac{7}{2}b^2\n",
    "- \\left(\\frac{1}{12} a^4 - \\frac{11}{12} a^3 + \\frac{7}{2}a^2\\right)\n",
    "$$\n",
    "\n",
    "#### Less parentheses is often better!\n",
    "\n",
    "$$\n",
    "\\left(\\left(\\frac{1}{12}\\right) \\left(b^4\\right) - \\left(\\frac{11}{12}\\right) \\left(b^3\\right) + \\left(\\frac{7}{2}\\right)\\left(b^2\\right)\\right)\n",
    "- \\left(\\left(\\frac{1}{12}\\right) \\left(a^4\\right) - \\left(\\frac{11}{12}\\right) \\left(a^3\\right) + \\left(\\frac{7}{2}\\right)\\left(a^2\\right)\\right)\n",
    "$$"
   ]
  },
  {
   "cell_type": "code",
   "execution_count": null,
   "metadata": {
    "slideshow": {
     "slide_type": "subslide"
    }
   },
   "outputs": [],
   "source": [
    "def integral_of_function(a, b):\n",
    "    i = (b**4 / 12 - 11 / 12 * b**3 + 7 / 2 * b**2 \n",
    "         - (1/12 * a**4 - 11 / 12 * a**3 + 7 / 2 * a**2))\n",
    "    return i\n",
    "\n",
    "integral_of_function(1, 2)"
   ]
  },
  {
   "cell_type": "code",
   "execution_count": null,
   "metadata": {
    "slideshow": {
     "slide_type": "subslide"
    }
   },
   "outputs": [],
   "source": [
    "def integrand(x):\n",
    "    return x**3 / 3 - 11 / 4 * x**2 + 7 * x"
   ]
  },
  {
   "cell_type": "markdown",
   "metadata": {
    "slideshow": {
     "slide_type": "slide"
    }
   },
   "source": [
    "## Trapezoidal rule\n",
    "\n",
    "$$\\int_a^b f(x) dx \\approx (h/2) ( f(a) + 2f(a +h) + \\cdots + 2f(a + (N-1)h) + f(a + Nh))\n",
    "$$\n",
    "\n",
    "Let's implement this without a loop. Note the use of `sum` below to do the adding."
   ]
  },
  {
   "cell_type": "code",
   "execution_count": null,
   "metadata": {
    "slideshow": {
     "slide_type": "subslide"
    }
   },
   "outputs": [],
   "source": [
    "x, h = np.linspace(1, 2, num=101, retstep=True)\n",
    "f = integrand(x)\n",
    "(h / 2) * (f[0] + f[-1] + 2 * sum(f[1:-1]))"
   ]
  }
 ],
 "metadata": {
  "celltoolbar": "Slideshow",
  "kernelspec": {
   "display_name": "Python 3",
   "language": "python",
   "name": "python3"
  },
  "language_info": {
   "codemirror_mode": {
    "name": "ipython",
    "version": 3
   },
   "file_extension": ".py",
   "mimetype": "text/x-python",
   "name": "python",
   "nbconvert_exporter": "python",
   "pygments_lexer": "ipython3",
   "version": "3.7.6"
  }
 },
 "nbformat": 4,
 "nbformat_minor": 2
}
