{
 "cells": [
  {
   "cell_type": "markdown",
   "metadata": {
    "slideshow": {
     "slide_type": "-"
    },
    "toc": true
   },
   "source": [
    "<h1>Table of Contents<span class=\"tocSkip\"></span></h1>\n",
    "<div class=\"toc\"><ul class=\"toc-item\"><li><span><a href=\"#Goals\" data-toc-modified-id=\"Goals-1\"><span class=\"toc-item-num\">1&nbsp;&nbsp;</span>Goals</a></span></li><li><span><a href=\"#Define-our-model-(y-intercept-and-slope)\" data-toc-modified-id=\"Define-our-model-(y-intercept-and-slope)-2\"><span class=\"toc-item-num\">2&nbsp;&nbsp;</span>Define our model (y-intercept and slope)</a></span><ul class=\"toc-item\"><li><span><a href=\"#Generate-data-without-noise-and-plot-it.\" data-toc-modified-id=\"Generate-data-without-noise-and-plot-it.-2.1\"><span class=\"toc-item-num\">2.1&nbsp;&nbsp;</span>Generate data without noise and plot it.</a></span></li><li><span><a href=\"#Create-noise-and-add-to-data\" data-toc-modified-id=\"Create-noise-and-add-to-data-2.2\"><span class=\"toc-item-num\">2.2&nbsp;&nbsp;</span>Create noise and add to data</a></span></li><li><span><a href=\"#Let's-fit-a-curve-to-this....\" data-toc-modified-id=\"Let's-fit-a-curve-to-this....-2.3\"><span class=\"toc-item-num\">2.3&nbsp;&nbsp;</span>Let's fit a curve to this....</a></span></li></ul></li><li><span><a href=\"#Error-and-covariance\" data-toc-modified-id=\"Error-and-covariance-3\"><span class=\"toc-item-num\">3&nbsp;&nbsp;</span>Error and covariance</a></span></li><li><span><a href=\"#How-do-we-know-that-normal-really-gives-us-a-normal-distribution?\" data-toc-modified-id=\"How-do-we-know-that-normal-really-gives-us-a-normal-distribution?-4\"><span class=\"toc-item-num\">4&nbsp;&nbsp;</span>How do we know that <code>normal</code> really gives us a normal distribution?</a></span><ul class=\"toc-item\"><li><span><a href=\"#Looks-good,-but-how-do-we-check-that-this-is-normal?-Fit-a-normal-distribution-to-the-histogram\" data-toc-modified-id=\"Looks-good,-but-how-do-we-check-that-this-is-normal?-Fit-a-normal-distribution-to-the-histogram-4.1\"><span class=\"toc-item-num\">4.1&nbsp;&nbsp;</span>Looks good, but how do we check that this is normal? Fit a normal distribution to the histogram</a></span></li><li><span><a href=\"#Calculate-bin-centers...\" data-toc-modified-id=\"Calculate-bin-centers...-4.2\"><span class=\"toc-item-num\">4.2&nbsp;&nbsp;</span>Calculate bin centers...</a></span></li><li><span><a href=\"#...and-fit-a-Gaussian\" data-toc-modified-id=\"...and-fit-a-Gaussian-4.3\"><span class=\"toc-item-num\">4.3&nbsp;&nbsp;</span>...and fit a Gaussian</a></span></li></ul></li></ul></div>"
   ]
  },
  {
   "cell_type": "code",
   "execution_count": null,
   "metadata": {},
   "outputs": [],
   "source": [
    "%load_ext autoreload\n",
    "\n",
    "%autoreload 2"
   ]
  },
  {
   "cell_type": "code",
   "execution_count": null,
   "metadata": {},
   "outputs": [],
   "source": [
    "import numpy as np\n",
    "\n",
    "%matplotlib notebook\n",
    "from matplotlib import pyplot as plt\n",
    "\n",
    "from scipy.optimize import curve_fit"
   ]
  },
  {
   "cell_type": "markdown",
   "metadata": {},
   "source": [
    "## Goals\n",
    "\n",
    "+ Fit a curve to data\n",
    "+ Generate random numbers with a Gaussian (normal) distribution \n",
    "+ Fit curve to data with noise\n",
    "+ Calculate uncertainty in fit\n",
    "+ Fit curve to distribution of random numbers"
   ]
  },
  {
   "cell_type": "markdown",
   "metadata": {},
   "source": [
    "## Define our model (y-intercept and slope)"
   ]
  },
  {
   "cell_type": "code",
   "execution_count": null,
   "metadata": {},
   "outputs": [],
   "source": [
    "slope_input = 5\n",
    "y_intercept_input = 2\n",
    "num_points = 1000"
   ]
  },
  {
   "cell_type": "code",
   "execution_count": null,
   "metadata": {},
   "outputs": [],
   "source": [
    "x = np.linspace(0, 10, num=num_points)"
   ]
  },
  {
   "cell_type": "code",
   "execution_count": null,
   "metadata": {},
   "outputs": [],
   "source": [
    "def line(x, m, b):\n",
    "    \"\"\"\n",
    "\n",
    "    \"\"\"\n",
    "    return m * x + b"
   ]
  },
  {
   "cell_type": "markdown",
   "metadata": {},
   "source": [
    "### Generate data without noise and plot it."
   ]
  },
  {
   "cell_type": "code",
   "execution_count": null,
   "metadata": {},
   "outputs": [],
   "source": [
    "y_perfect = line(x, slope_input, y_intercept_input)"
   ]
  },
  {
   "cell_type": "code",
   "execution_count": null,
   "metadata": {},
   "outputs": [],
   "source": [
    "plt.figure()\n",
    "plt.plot(x, y_perfect, '+')"
   ]
  },
  {
   "cell_type": "markdown",
   "metadata": {},
   "source": [
    "### Create noise and add to data"
   ]
  },
  {
   "cell_type": "code",
   "execution_count": null,
   "metadata": {},
   "outputs": [],
   "source": [
    "noise = np.random.normal(loc=0, scale=2, size=x.shape)"
   ]
  },
  {
   "cell_type": "code",
   "execution_count": null,
   "metadata": {},
   "outputs": [],
   "source": [
    "y_real = y_perfect + noise"
   ]
  },
  {
   "cell_type": "code",
   "execution_count": null,
   "metadata": {},
   "outputs": [],
   "source": [
    "plt.figure()\n",
    "plt.plot(x, y_real, '+', label='Data') \n",
    "plt.plot(x, y_perfect, label='Perfect')\n",
    "plt.legend()"
   ]
  },
  {
   "cell_type": "markdown",
   "metadata": {},
   "source": [
    "### Let's fit a curve to this...."
   ]
  },
  {
   "cell_type": "code",
   "execution_count": null,
   "metadata": {},
   "outputs": [],
   "source": [
    "fit_parameters, covariance = curve_fit(line, x, y_real, p0=[0, 0])"
   ]
  },
  {
   "cell_type": "markdown",
   "metadata": {},
   "source": [
    "Print out the fit parameters (they are in the same order as the arguments to `line`, defined above."
   ]
  },
  {
   "cell_type": "code",
   "execution_count": null,
   "metadata": {},
   "outputs": [],
   "source": [
    "print(fit_parameters)"
   ]
  },
  {
   "cell_type": "code",
   "execution_count": null,
   "metadata": {},
   "outputs": [],
   "source": [
    "y_model = line(x, *fit_parameters)\n",
    "plt.figure()\n",
    "plt.plot(x, y_real, '+', label='data')\n",
    "plt.plot(x, y_model, label='best fit') \n",
    "plt.legend()"
   ]
  },
  {
   "cell_type": "markdown",
   "metadata": {},
   "source": [
    "## Error and covariance"
   ]
  },
  {
   "cell_type": "code",
   "execution_count": null,
   "metadata": {},
   "outputs": [],
   "source": [
    "covariance"
   ]
  },
  {
   "cell_type": "markdown",
   "metadata": {},
   "source": [
    "Uncertainties in the fit parameters are the square root of the diagonal elements of the covariance."
   ]
  },
  {
   "cell_type": "code",
   "execution_count": null,
   "metadata": {},
   "outputs": [],
   "source": [
    "uncertainty_in_slope = np.sqrt(covariance[0, 0])\n",
    "uncertainty_in_intercept = np.sqrt(covariance[1, 1])"
   ]
  },
  {
   "cell_type": "code",
   "execution_count": null,
   "metadata": {},
   "outputs": [],
   "source": [
    "print(uncertainty_in_slope)\n",
    "print(uncertainty_in_intercept)"
   ]
  },
  {
   "cell_type": "markdown",
   "metadata": {},
   "source": [
    "## How do we know that `normal` really gives us a normal distribution?"
   ]
  },
  {
   "cell_type": "code",
   "execution_count": null,
   "metadata": {},
   "outputs": [],
   "source": [
    "plt.figure()\n",
    "plt.hist(noise, bins=20)\n",
    "plt.grid()"
   ]
  },
  {
   "cell_type": "markdown",
   "metadata": {},
   "source": [
    "### Looks good, but how do we check that this is normal? Fit a normal distribution to the histogram\n",
    "\n",
    "It turns out that `plt.hist()` returns three things:\n",
    "\n",
    "+ `histogram`, the number of counts in each bin. If there are $N$ of these then there are $N + 1$ `bins`.\n",
    "+ `bin_edges`, the location of the *edges* of each bin.\n",
    "+ `patches`, the boxes that matplotlib draws on the screen for the histogram.\n",
    "\n",
    "To fit a normal (Gaussian) distribution to the histogram we need the position of the bin *centers* and the number of counts in each bin.\n",
    "\n",
    "*One important note:* since the Gaussian function we implemented is nromalized (i.e. area under the curve is one) we need to tell matplotlib to produce a normalized histogram. The `density` argumen to `plt.hist()` does that in the cell below."
   ]
  },
  {
   "cell_type": "code",
   "execution_count": null,
   "metadata": {},
   "outputs": [],
   "source": [
    "plt.figure()\n",
    "hist, bin_edges, patches = plt.hist(noise, bins=20, density=True)"
   ]
  },
  {
   "cell_type": "markdown",
   "metadata": {},
   "source": [
    "### Calculate bin centers..."
   ]
  },
  {
   "cell_type": "code",
   "execution_count": null,
   "metadata": {},
   "outputs": [],
   "source": [
    "bin_center = (bin_edges[1:] + bin_edges[:-1]) / 2"
   ]
  },
  {
   "cell_type": "markdown",
   "metadata": {},
   "source": [
    "### ...and fit a Gaussian\n",
    "\n",
    "THIS CELL WILL FAIL WHEN YOU TRY IT because it requires a Gaussian function that you will implement in lab. The `gauss` function has signature `gauss(x, mu, sigma)`. It returns\n",
    "\n",
    "$$\n",
    "f(x) = \\frac{1}{\\sqrt{2\\pi\\sigma^2}} e^{-\\frac{(x-\\mu)^2}{2\\sigma^2}},\n",
    "$$\n",
    "\n",
    "where $\\mu$ is the position of the center of the distribution and $\\sigma$ is the standard deviation of the Gaussian."
   ]
  },
  {
   "cell_type": "code",
   "execution_count": null,
   "metadata": {},
   "outputs": [],
   "source": [
    "print(len(bin_center), len(hist))"
   ]
  },
  {
   "cell_type": "markdown",
   "metadata": {},
   "source": [
    "Fit the Gaussian"
   ]
  },
  {
   "cell_type": "code",
   "execution_count": null,
   "metadata": {},
   "outputs": [],
   "source": [
    "from functions import gauss\n",
    "\n",
    "fit_param_gauss, covar_gauss = curve_fit(gauss, bin_center, hist, p0=[1, 1])\n",
    "print('Fit parameters are: ', fit_param_gauss)\n",
    "print('Uncertainties are: ', np.sqrt(covar_gauss.diagonal()))"
   ]
  },
  {
   "cell_type": "markdown",
   "metadata": {},
   "source": [
    "Add a graph of it to the plot above."
   ]
  },
  {
   "cell_type": "code",
   "execution_count": null,
   "metadata": {},
   "outputs": [],
   "source": [
    "plt.plot(bin_center, gauss(bin_center, *fit_param_gauss), label='Fit')\n",
    "plt.legend()"
   ]
  }
 ],
 "metadata": {
  "celltoolbar": "Slideshow",
  "kernelspec": {
   "display_name": "Python 3",
   "language": "python",
   "name": "python3"
  },
  "language_info": {
   "codemirror_mode": {
    "name": "ipython",
    "version": 3
   },
   "file_extension": ".py",
   "mimetype": "text/x-python",
   "name": "python",
   "nbconvert_exporter": "python",
   "pygments_lexer": "ipython3",
   "version": "3.6.7"
  },
  "toc": {
   "base_numbering": 1,
   "nav_menu": {},
   "number_sections": true,
   "sideBar": true,
   "skip_h1_title": true,
   "title_cell": "Table of Contents",
   "title_sidebar": "Contents",
   "toc_cell": true,
   "toc_position": {},
   "toc_section_display": true,
   "toc_window_display": false
  }
 },
 "nbformat": 4,
 "nbformat_minor": 2
}
