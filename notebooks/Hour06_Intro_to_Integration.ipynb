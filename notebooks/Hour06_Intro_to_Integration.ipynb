{
 "cells": [
  {
   "cell_type": "markdown",
   "metadata": {
    "slideshow": {
     "slide_type": "slide"
    }
   },
   "source": [
    "# Lecture 6: Introduction to numerical integration"
   ]
  },
  {
   "cell_type": "markdown",
   "metadata": {
    "slideshow": {
     "slide_type": "slide"
    }
   },
   "source": [
    "## Two broad uses for numerical integration\n",
    "\n",
    "+ You can calculate the value of a function anywhere you want... \n",
    "+ You have a table or list of the values of a function at fixed locations...\n",
    "\n",
    "...but you cannot do the integral analytically."
   ]
  },
  {
   "cell_type": "markdown",
   "metadata": {
    "slideshow": {
     "slide_type": "slide"
    }
   },
   "source": [
    "## Big idea: break integral into small pieces, add them up\n",
    "\n",
    "+ In each piece, approximate function by some shape\n",
    "+ Estimate error in making this approximation\n",
    "+ Add the pieces up"
   ]
  },
  {
   "attachments": {},
   "cell_type": "markdown",
   "metadata": {
    "slideshow": {
     "slide_type": "slide"
    }
   },
   "source": [
    "## A few approximations\n",
    "\n",
    "### Which approximation below is most accurate and why?\n",
    "\n",
    "![Three integration methods](media/06-three-graphs.png)"
   ]
  },
  {
   "attachments": {},
   "cell_type": "markdown",
   "metadata": {
    "slideshow": {
     "slide_type": "slide"
    }
   },
   "source": [
    "## Counting: *intervals* vs *points*\n",
    "\n",
    "![Number line with intervals and endpoints](media/06-intervals.png)\n",
    "\n",
    "In diagram above there are $N$ **intervals**. \n",
    "\n",
    "+ How many points?\n",
    "+ What is $h$ in terms of $a$, $b$, $N$?"
   ]
  },
  {
   "cell_type": "markdown",
   "metadata": {
    "slideshow": {
     "slide_type": "notes"
    }
   },
   "source": [
    "+ $N+ 1$ points\n",
    "+ $h = (b - a)/N$"
   ]
  },
  {
   "cell_type": "markdown",
   "metadata": {
    "slideshow": {
     "slide_type": "slide"
    }
   },
   "source": [
    "## Roughest estimate: midpoint rule\n",
    "\n",
    "<img src=\"media/Hour07_Intro_to_Integration.png\" style=\"height:200px\"/>\n",
    "\n",
    "+ In each interval: $\\int_x^{x+h} f(x) dx \\approx f(x+h/2) h$\n",
    "+ Add the intervals up: $\\int_a^b f(x) dx \\approx $"
   ]
  },
  {
   "cell_type": "markdown",
   "metadata": {
    "slideshow": {
     "slide_type": "notes"
    }
   },
   "source": [
    "## Roughest estimate: midpoint rule\n",
    "\n",
    "<img src=\"media/06-Intro_to_Integration.png\" style=\"height:200px\"/>\n",
    "\n",
    "+ In each interval: $\\int_x^{x+h} f(x) dx \\approx f(x+h/2) h$\n",
    "+ Add the intervals up: $\\int_a^b f(x) dx \\approx f(a+h/2) + f(a + 3h/2) + \\ldots + f(a + (2N-1)h/2)$"
   ]
  },
  {
   "cell_type": "markdown",
   "metadata": {
    "slideshow": {
     "slide_type": "slide"
    }
   },
   "source": [
    "## Midpoint rule: general formula\n",
    "\n",
    "+ For $N$ **intervals** of width $h$ the midpoint rule is\n",
    "\n",
    "$$\n",
    "\\int_a^b f(x) dx \\approx h \\sum_{n=0}^{N-1} f\\left(a + (2n + 1)({h}/{2})\\right)\n",
    "$$\n"
   ]
  },
  {
   "cell_type": "markdown",
   "metadata": {
    "slideshow": {
     "slide_type": "slide"
    }
   },
   "source": [
    "## Example integrand\n",
    "\n",
    "+ As a concrete example we will use this function: $f(x) = \\frac{1}{3} x^3 - \\frac{11}{4} x^2 + 7x$.\n",
    "+ Nothing special, except it is straightforward to integrate by hand, and it matches the figures above."
   ]
  },
  {
   "cell_type": "code",
   "execution_count": 1,
   "metadata": {
    "slideshow": {
     "slide_type": "subslide"
    }
   },
   "outputs": [],
   "source": [
    "def func(x):\n",
    "    \"\"\"\n",
    "    Return the value of the polynomial x^3/3 - 11 x^2/4 + 7x.\n",
    "    \n",
    "    Parameters\n",
    "    ----------\n",
    "    \n",
    "    x : number\n",
    "        Point at which to evaluate the function.\n",
    "    \n",
    "    Returns\n",
    "    -------\n",
    "    \n",
    "    float\n",
    "        Value of function at input point.\n",
    "    \"\"\"\n",
    "    return  x**3 / 3 - 11/4 * x**2 + 7 * x \n",
    "\n"
   ]
  },
  {
   "cell_type": "markdown",
   "metadata": {
    "slideshow": {
     "slide_type": "notes"
    }
   },
   "source": [
    "### Quick graph of the function of interest"
   ]
  },
  {
   "cell_type": "code",
   "execution_count": 3,
   "metadata": {
    "slideshow": {
     "slide_type": "notes"
    }
   },
   "outputs": [
    {
     "data": {
      "image/png": "[encoded data removed]",
      "text/plain": [
       "<Figure size 432x288 with 1 Axes>"
      ]
     },
     "metadata": {
      "needs_background": "light"
     },
     "output_type": "display_data"
    }
   ],
   "source": [
    "import numpy as np\n",
    "%matplotlib inline\n",
    "import matplotlib.pyplot as plt\n",
    "\n",
    "a = 0\n",
    "b = 6\n",
    "x = np.linspace(a, b, num=501)\n",
    "plt.plot(x, func(x))\n",
    "plt.ylim(0, 9)\n",
    "plt.xlim(0, 6)\n",
    "plt.grid()"
   ]
  },
  {
   "cell_type": "markdown",
   "metadata": {
    "slideshow": {
     "slide_type": "slide"
    }
   },
   "source": [
    "## Assume the rest of the Python snippets have already run this"
   ]
  },
  {
   "cell_type": "code",
   "execution_count": 4,
   "metadata": {},
   "outputs": [],
   "source": [
    "import numpy as np\n",
    "\n",
    "N = 10\n",
    "a = 1\n",
    "b = 5\n",
    "h = (b - a) / N"
   ]
  },
  {
   "cell_type": "markdown",
   "metadata": {
    "slideshow": {
     "slide_type": "slide"
    }
   },
   "source": [
    "## A (slow) Python approach\n",
    "\n",
    "Given function `func(x)`, with `N` **intervals** from `a` to `b`\n",
    "\n",
    "```python\n",
    "midpoint_int = 0\n",
    "for n in range(N):\n",
    "    midpoint_int = midpoint_int + h * func(a + (2 * n + 1)*h/2)\n",
    "print(midpoint_int)\n",
    "```"
   ]
  },
  {
   "cell_type": "code",
   "execution_count": 5,
   "metadata": {
    "slideshow": {
     "slide_type": "slide"
    }
   },
   "outputs": [
    {
     "name": "stdout",
     "output_type": "stream",
     "text": [
      "0 1.2\n",
      "1 1.6\n",
      "2 2.0\n",
      "3 2.4000000000000004\n",
      "4 2.8\n",
      "5 3.2\n",
      "6 3.6\n",
      "7 4.0\n",
      "8 4.4\n",
      "9 4.800000000000001\n",
      "22.320000000000007\n"
     ]
    }
   ],
   "source": [
    "midpoint_int = 0\n",
    "for n in range(N):\n",
    "    print(n, a + (2 * n + 1)*h/2)\n",
    "    midpoint_int = midpoint_int + h * func(a + (2 * n + 1)*h/2)\n",
    "print(midpoint_int)"
   ]
  },
  {
   "cell_type": "markdown",
   "metadata": {
    "slideshow": {
     "slide_type": "slide"
    }
   },
   "source": [
    "## A faster Python approach\n",
    "\n",
    "```python\n",
    "x_points = np.linspace(a, b, num=N + 1) + h / 2\n",
    "```"
   ]
  },
  {
   "cell_type": "markdown",
   "metadata": {
    "slideshow": {
     "slide_type": "fragment"
    }
   },
   "source": [
    "```python\n",
    "midpoint_int = sum(h * func(x_points[:-1]))\n",
    "```"
   ]
  },
  {
   "cell_type": "code",
   "execution_count": 6,
   "metadata": {
    "slideshow": {
     "slide_type": "slide"
    }
   },
   "outputs": [
    {
     "name": "stdout",
     "output_type": "stream",
     "text": [
      "[1.2 1.6 2.  2.4 2.8 3.2 3.6 4.  4.4 4.8]\n",
      "22.32\n"
     ]
    }
   ],
   "source": [
    "x_points = np.linspace(a, b, num=N + 1) + h / 2\n",
    "print(x_points[:-1])\n",
    "midpoint_int = sum(h * func(x_points[:-1]))\n",
    "print(midpoint_int)"
   ]
  },
  {
   "attachments": {},
   "cell_type": "markdown",
   "metadata": {
    "slideshow": {
     "slide_type": "slide"
    }
   },
   "source": [
    "## Trapezoidal rule\n",
    "\n",
    "![One interval with trapezoid](media/06-one-trapezoid.png)\n",
    "\n",
    "#### What is area of grey region?"
   ]
  },
  {
   "attachments": {},
   "cell_type": "markdown",
   "metadata": {
    "slideshow": {
     "slide_type": "slide"
    }
   },
   "source": [
    "## Two steps: what is area?\n",
    "\n",
    "![Two trapezoidal intervals](media/06-two-trapezoid.png)\n",
    "\n"
   ]
  },
  {
   "attachments": {},
   "cell_type": "markdown",
   "metadata": {
    "slideshow": {
     "slide_type": "slide"
    }
   },
   "source": [
    "## Now $N$ intervals\n",
    "\n",
    "![N trapezoidal intervals](media/06-N-trapezoid.png)"
   ]
  },
  {
   "cell_type": "markdown",
   "metadata": {
    "slideshow": {
     "slide_type": "subslide"
    }
   },
   "source": [
    "## Trapezoidal rule\n",
    "\n",
    "$$\\int_a^b f(x) dx \\approx \\frac{h}{2} \\left( f(a) + 2f(a +h) + \\cdots + 2f(a + (N-1)h) + f(a + Nh)\\right)\n",
    "$$\n",
    "\n",
    "You will implement this in lab this week!"
   ]
  },
  {
   "cell_type": "code",
   "execution_count": null,
   "metadata": {},
   "outputs": [],
   "source": []
  }
 ],
 "metadata": {
  "celltoolbar": "Slideshow",
  "kernelspec": {
   "display_name": "Python 3",
   "language": "python",
   "name": "python3"
  },
  "language_info": {
   "codemirror_mode": {
    "name": "ipython",
    "version": 3
   },
   "file_extension": ".py",
   "mimetype": "text/x-python",
   "name": "python",
   "nbconvert_exporter": "python",
   "pygments_lexer": "ipython3",
   "version": "3.7.6"
  }
 },
 "nbformat": 4,
 "nbformat_minor": 2
}
