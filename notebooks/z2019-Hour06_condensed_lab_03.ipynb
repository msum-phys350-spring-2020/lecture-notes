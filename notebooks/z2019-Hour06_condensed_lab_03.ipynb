{
 "cells": [
  {
   "cell_type": "markdown",
   "metadata": {
    "slideshow": {
     "slide_type": "slide"
    }
   },
   "source": [
    "# Lecture 6: Lab 02 in 6 lines of code (and improved!)"
   ]
  },
  {
   "cell_type": "markdown",
   "metadata": {
    "slideshow": {
     "slide_type": "slide"
    }
   },
   "source": [
    "## Approach this semester\n",
    "\n",
    "+ Implement something yourself to understand the technique\n",
    "+ Check for tools that better implement the process"
   ]
  },
  {
   "cell_type": "markdown",
   "metadata": {
    "slideshow": {
     "slide_type": "slide"
    }
   },
   "source": [
    "## Approach today\n",
    "\n",
    "+ Given task and name of numpy function, read its documentation and complete the task with it.\n",
    "+ How do you find numpy documentation? Google `numpy` and the name of the function you want documentation for\n",
    "+ Type your code in a spyder file that you save\n",
    "\n",
    "### Overall goal for the day: \n",
    "\n",
    "+ Many walks: `n_walks` of them\n",
    "+ Each walk has many steps: `n_steps` of them\n",
    "+ NO LOOPS!"
   ]
  },
  {
   "cell_type": "markdown",
   "metadata": {
    "slideshow": {
     "slide_type": "slide"
    }
   },
   "source": [
    "## Starting code\n",
    "\n",
    "Get the code below into spyder"
   ]
  },
  {
   "cell_type": "code",
   "execution_count": null,
   "metadata": {
    "slideshow": {
     "slide_type": "-"
    }
   },
   "outputs": [],
   "source": [
    "import numpy as np\n",
    "\n",
    "n_walkers = 10\n",
    "n_steps = 100\n",
    "step_size = 3"
   ]
  },
  {
   "cell_type": "markdown",
   "metadata": {},
   "source": [
    "Run the code and save it"
   ]
  },
  {
   "cell_type": "markdown",
   "metadata": {
    "slideshow": {
     "slide_type": "slide"
    }
   },
   "source": [
    "## First new numpy command: random.choice\n",
    "\n",
    "+ Look up the documentation for `np.random.choice`\n",
    "+ Use `np.random.choice` to generate a single step that is either `+step_size` or `-step_size`\n",
    "+ Modify that to calculate `n_walkers` x `n_steps` random steps. \n",
    "+ Store the result in a variable named `x_steps`\n",
    "+ You now have every step for every walker for the *x* direction.\n",
    "+ Add a similar line to calculate all of the *y* direction steps."
   ]
  },
  {
   "cell_type": "code",
   "execution_count": null,
   "metadata": {
    "slideshow": {
     "slide_type": "slide"
    }
   },
   "outputs": [],
   "source": [
    "x_steps = np.random.choice([+step_size, -step_size], \n",
    "                           size=[n_walkers, n_steps])\n",
    "x_steps.shape"
   ]
  },
  {
   "cell_type": "markdown",
   "metadata": {
    "slideshow": {
     "slide_type": "slide"
    }
   },
   "source": [
    "## Set initial position to 0 for both x and y direction (slicing practice)\n",
    "\n",
    "+ The variable `x_steps` has dimension `n_walkers` rows by `n_steps` columns\n",
    "+ Which column number corresponds to the initial position?\n",
    "+ What is the expression for slicing that column for all walkers? \n",
    "    + What fills in these blanks: `x_steps[     ,      ]`\n",
    "+ Set the initial position to zero for `x_steps`\n",
    "+ Do the same for `y_steps`"
   ]
  },
  {
   "cell_type": "markdown",
   "metadata": {
    "slideshow": {
     "slide_type": "slide"
    }
   },
   "source": [
    "## Add up all of the steps: numpy cumulative sum function\n",
    "\n",
    "+ Look at documentation for `np.cumsum`\n",
    "+ Calculate the cumulative sum of the `x_step` along `axis=1`\n",
    "+ Set to variable named `x_walk`\n",
    "+ Repeat for y\n",
    "\n"
   ]
  },
  {
   "cell_type": "code",
   "execution_count": null,
   "metadata": {
    "slideshow": {
     "slide_type": "slide"
    }
   },
   "outputs": [],
   "source": [
    "x_steps[:, 0] = 0\n",
    "\n",
    "x_walks = np.cumsum(x_steps, axis=1) "
   ]
  },
  {
   "cell_type": "markdown",
   "metadata": {
    "slideshow": {
     "slide_type": "slide"
    }
   },
   "source": [
    "# Completed code is below \n",
    "## It includes a plot like one of them from lab 2"
   ]
  },
  {
   "cell_type": "code",
   "execution_count": null,
   "metadata": {},
   "outputs": [],
   "source": [
    "import numpy as np\n",
    "import matplotlib.pyplot as plt\n",
    "\n",
    "# Define parameters\n",
    "n_walkers = 10\n",
    "n_steps = 1000\n",
    "step_size = 3\n",
    "\n",
    "# Generate individual steps in x and y\n",
    "x_steps = np.random.choice([step_size, -step_size],\n",
    "                          size=[n_walkers, n_steps])\n",
    "y_steps = np.random.choice([step_size, -step_size],\n",
    "                          size=[n_walkers, n_steps])\n",
    "\n",
    "# Sum the steps to generate a complete walk\n",
    "# axis=1 tells numpy to sum along the columns which are, in our case,\n",
    "# the individual steps.\n",
    "x_walks = np.cumsum(x_steps, axis=1)\n",
    "y_walks = np.cumsum(y_steps, axis=1)\n",
    "\n",
    "# Plot all of the walkers\n",
    "for n in range(n_walkers):\n",
    "    plt.plot(x_walks[n, :], y_walks[n, :], alpha=0.5)"
   ]
  },
  {
   "cell_type": "code",
   "execution_count": null,
   "metadata": {
    "slideshow": {
     "slide_type": "slide"
    }
   },
   "outputs": [],
   "source": [
    "# We can also calculate distance \n",
    "distance = np.sqrt(x_walks**2 + y_walks**2)\n",
    "\n",
    "# Plot distance for all walkers\n",
    "for n in range(n_walkers):\n",
    "    plt.plot(distance[n, :], alpha=0.5)\n",
    "\n",
    "# Also calculate the average distance at each step, averaging over all\n",
    "# of the walkers, i.e. all of the rows\n",
    "avg_distance = distance.mean(axis=0)\n",
    "\n",
    "plt.plot(avg_distance, color='black')\n",
    "\n",
    "plt.xlabel('Step number')\n",
    "plt.ylabel('Distance from origin')"
   ]
  },
  {
   "cell_type": "code",
   "execution_count": null,
   "metadata": {},
   "outputs": [],
   "source": []
  }
 ],
 "metadata": {
  "celltoolbar": "Slideshow",
  "kernelspec": {
   "display_name": "Python 3",
   "language": "python",
   "name": "python3"
  },
  "language_info": {
   "codemirror_mode": {
    "name": "ipython",
    "version": 3
   },
   "file_extension": ".py",
   "mimetype": "text/x-python",
   "name": "python",
   "nbconvert_exporter": "python",
   "pygments_lexer": "ipython3",
   "version": "3.7.6"
  }
 },
 "nbformat": 4,
 "nbformat_minor": 2
}
