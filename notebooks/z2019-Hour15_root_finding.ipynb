{
 "cells": [
  {
   "cell_type": "markdown",
   "metadata": {
    "slideshow": {
     "slide_type": "slide"
    }
   },
   "source": [
    "# Lecture 15: Root finding"
   ]
  },
  {
   "cell_type": "markdown",
   "metadata": {
    "slideshow": {
     "slide_type": "slide"
    }
   },
   "source": [
    "## Objectives\n",
    "\n",
    "+ Understand outline of root finding methods.\n",
    "+ Describe the meaning of tolerance in root finding.\n",
    "+ Code up a basic root finder."
   ]
  },
  {
   "cell_type": "markdown",
   "metadata": {
    "slideshow": {
     "slide_type": "slide"
    }
   },
   "source": [
    "## Four methods we'll cover \n",
    "\n",
    "+ Relaxation method\n",
    "+ Binary search\n",
    "+ Newton's method\n",
    "+ Secant method"
   ]
  },
  {
   "cell_type": "markdown",
   "metadata": {
    "slideshow": {
     "slide_type": "subslide"
    }
   },
   "source": [
    "### Relaxation method\n",
    "\n",
    "+ For problems of the form $x = f(x)$. \n",
    "+ Guess a value for $x$, subtitute into $f(x)$ to generate a new value. \n",
    "+ Repeat until difference between old and new is less than some tolerance $\\delta$."
   ]
  },
  {
   "cell_type": "markdown",
   "metadata": {
    "slideshow": {
     "slide_type": "subslide"
    }
   },
   "source": [
    "### Binary search\n",
    "\n",
    "+ For problems of the form $g(x) = 0$. Does this include Relaxation case?\n",
    "+ Guess two initial values for $x$, call them $x_1$ and $x_2$.\n",
    "    - $g(x)$ must be positive for one value, negative for the other\n",
    "+ Guess new $x' = (x_1 + x_2)/2$\n",
    "+ Replace either $x_1$ or $x_2$ with $x'$\n",
    "+ Repeat until difference between $x_1$ and $x_2$ is less than tolerance $\\delta$"
   ]
  },
  {
   "cell_type": "markdown",
   "metadata": {
    "slideshow": {
     "slide_type": "subslide"
    }
   },
   "source": [
    "### Newton's method\n",
    "\n",
    "+ For problems of the form $g(x) = 0$ \n",
    "    - Must also be able to calculate the derivative of $g$.\n",
    "+ Guess solution $x$, use $g$ and $g'$ to find new estimate $x'$\n",
    "+ Repeat until difference between $x$ and $x'$ smaller than tolerance $\\delta$"
   ]
  },
  {
   "cell_type": "markdown",
   "metadata": {
    "slideshow": {
     "slide_type": "subslide"
    }
   },
   "source": [
    "### Secant method\n",
    "\n",
    "+ For problems of the form $g(x) = 0$ \n",
    "    - works even for functions $g$ that are tabular\n",
    "+ Guess solution $x$, calculate derivative $g'$ using numerical differentiation\n",
    "+ Use $g$ and $g'$ to find new estimate $x'$\n",
    "+ Repeat until difference between $x$ and $x'$ smaller than tolerance $\\delta$"
   ]
  },
  {
   "cell_type": "markdown",
   "metadata": {
    "slideshow": {
     "slide_type": "slide"
    }
   },
   "source": [
    "## Relaxation example\n",
    "\n",
    "Try relaxation method for $x = e^{1-x^2}$:\n",
    "\n",
    "Guess | Revised guess\n",
    "------|--------------\n",
    "1.5   |              \n",
    "      |              \n",
    "      |              \n",
    "      |              \n",
    "      |              \n",
    "\n"
   ]
  },
  {
   "cell_type": "markdown",
   "metadata": {
    "slideshow": {
     "slide_type": "fragment"
    }
   },
   "source": [
    "### Never converges!"
   ]
  },
  {
   "cell_type": "markdown",
   "metadata": {
    "slideshow": {
     "slide_type": "slide"
    }
   },
   "source": [
    "## Rewrite equation\n",
    "\n",
    "Solve for $x$ on right hand side of $x = e^{1-x^2}$\n",
    "\n",
    "Now $x=$\n",
    "\n",
    "Write short Python program that uses relaxation method to find solution. \n",
    "\n",
    "Stop when difference between old and new is less than $\\delta=10^{-5}$.\n",
    "\n",
    "\n"
   ]
  },
  {
   "cell_type": "code",
   "execution_count": null,
   "metadata": {
    "slideshow": {
     "slide_type": "slide"
    }
   },
   "outputs": [],
   "source": [
    "import numpy as np\n",
    "\n",
    "def old_f(x):\n",
    "    return np.exp(1 - x**2)\n",
    "\n",
    "def f(x):\n",
    "    return np.sqrt(1 - np.log(x))\n",
    "\n",
    "x = 1.5   # initial guess\n",
    "x_prime = f(x)  # get set up for loop\n",
    "\n",
    "delta = 1e-5"
   ]
  },
  {
   "cell_type": "code",
   "execution_count": null,
   "metadata": {
    "slideshow": {
     "slide_type": "fragment"
    }
   },
   "outputs": [],
   "source": [
    "n_max = 100\n",
    "n_tries = 0\n",
    "while (np.abs(x_prime - x) >= delta) and (n_tries <= n_max):\n",
    "    x = x_prime\n",
    "    x_prime = old_f(x)\n",
    "    n_tries += 1\n",
    "\n",
    "print(x_prime, n_tries, np.abs(x_prime - x))"
   ]
  },
  {
   "cell_type": "markdown",
   "metadata": {
    "slideshow": {
     "slide_type": "slide"
    }
   },
   "source": [
    "## Binary search\n",
    "\n",
    "![graph of function near root](media/15-binary-search-setup.png)"
   ]
  },
  {
   "cell_type": "markdown",
   "metadata": {
    "slideshow": {
     "slide_type": "slide"
    }
   },
   "source": [
    "## Does binary search work for this function?\n",
    "\n",
    "![Graph of parabola that is always non-negative](media/15-parabola.png)"
   ]
  },
  {
   "cell_type": "markdown",
   "metadata": {
    "slideshow": {
     "slide_type": "slide"
    }
   },
   "source": [
    "## Does binary search work for this function?\n",
    "\n",
    "![Graph of parabola that is always non-negative](media/15-wiggly.png)"
   ]
  },
  {
   "cell_type": "markdown",
   "metadata": {
    "slideshow": {
     "slide_type": "slide"
    }
   },
   "source": [
    "## Newton's method\n",
    "\n",
    "Use derivative at initial guess to find new guess\n",
    "\n",
    "![Graph illustrating Newton's method](media/15-newton-intro.png)"
   ]
  },
  {
   "cell_type": "markdown",
   "metadata": {
    "slideshow": {
     "slide_type": "slide"
    }
   },
   "source": [
    "### Does Newton work for this function and guess?\n",
    "\n",
    "![Graph of function with some zeros](media/15-newton-oops.png)"
   ]
  },
  {
   "cell_type": "markdown",
   "metadata": {},
   "source": [
    "## Secant Method\n",
    "\n",
    "![Secant method setup](media/15-secant-setup.png)"
   ]
  },
  {
   "cell_type": "code",
   "execution_count": null,
   "metadata": {},
   "outputs": [],
   "source": []
  }
 ],
 "metadata": {
  "celltoolbar": "Slideshow",
  "kernelspec": {
   "display_name": "Python 3",
   "language": "python",
   "name": "python3"
  },
  "language_info": {
   "codemirror_mode": {
    "name": "ipython",
    "version": 3
   },
   "file_extension": ".py",
   "mimetype": "text/x-python",
   "name": "python",
   "nbconvert_exporter": "python",
   "pygments_lexer": "ipython3",
   "version": "3.6.7"
  }
 },
 "nbformat": 4,
 "nbformat_minor": 2
}
