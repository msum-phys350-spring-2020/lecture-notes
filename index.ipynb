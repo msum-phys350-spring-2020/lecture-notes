{
 "cells": [
  {
   "cell_type": "markdown",
   "metadata": {},
   "source": [
    "#  Notes, Spring 2020"
   ]
  },
  {
   "cell_type": "markdown",
   "metadata": {},
   "source": [
    "Notes are lised in reverse chronological order , i.e. most recent is on top."
   ]
  },
  {
   "cell_type": "markdown",
   "metadata": {},
   "source": [
    "- Lecture 2020-02-03: [Hour 09: On a roll with differentiation](notebooks/Hour09_more_arrays_and_differentiation.ipynb)\n",
    "- Lecture 2020-01-31: [Hour08 Numerical differentiation and more numpy.ipynb](Hour08_numerical_differentiation_and_approach_to_diffEq.ipynb)\n",
    "- Lecture 2020-01-27: [Hour06 Intro to integration](notebooks/Hour06_Intro_to_Integration.ipynb)\n",
    "- Useful for Code Quizzes: [Hour04 Multidimensional arrays and slicing](Hour04_Multidimensional_arrays_and_slicing.ipynb)\n",
    "- DO THIS IN PLACE OF LECTURE on 2020-01-17 (blizzard):\n",
    "    + [Hour 03 - Lists and Arrays](notebooks/Hour03_Lists_Arrays_Slicing.ipynb)\n",
    "    + [Hour 03 - Array and plotting examples](notebooks/Hour03_extra_array_practice.ipynb)\n",
    "- [Hour 01 - 2020-01-13 - Python Basics (not covered in class)](notebooks/Hour01_Python_Basics.ipynb)\n",
    "- [Hour 01 - Setup (did this in class)](notebooks/Hour01_Setup.ipynb)"
   ]
  },
  {
   "cell_type": "markdown",
   "metadata": {},
   "source": []
  }
 ],
 "metadata": {
  "kernelspec": {
   "display_name": "Python 3",
   "language": "python",
   "name": "python3"
  },
  "language_info": {
   "codemirror_mode": {
    "name": "ipython",
    "version": 3
   },
   "file_extension": ".py",
   "mimetype": "text/x-python",
   "name": "python",
   "nbconvert_exporter": "python",
   "pygments_lexer": "ipython3",
   "version": "3.7.6"
  }
 },
 "nbformat": 4,
 "nbformat_minor": 4
}
